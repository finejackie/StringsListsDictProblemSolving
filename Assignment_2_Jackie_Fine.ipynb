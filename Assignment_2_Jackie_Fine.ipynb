{
 "cells": [
  {
   "cell_type": "markdown",
   "metadata": {},
   "source": [
    "# Assignment 2 (20 points) + 1 Bonus Point\n",
    "\n",
    "Follow the instructions given in the comments in each cell.\n",
    "\n",
    "For all questions, type your code below the comment and run your code."
   ]
  },
  {
   "cell_type": "markdown",
   "metadata": {},
   "source": [
    "# 1 (0.25 points)\n",
    "\n",
    "# Write a program that splits the given string and creates the following list:\n",
    "# ['strings', 'lists', 'dictionaries', 'tuples', 'sets']"
   ]
  },
  {
   "cell_type": "code",
   "execution_count": 2,
   "metadata": {},
   "outputs": [
    {
     "name": "stdout",
     "output_type": "stream",
     "text": [
      "['strings', 'lists', 'dictionaries', 'tuples', 'sets']\n",
      "<class 'list'>\n"
     ]
    }
   ],
   "source": [
    "mystring = 'strings>lists>dictionaries>tuples>sets'\n",
    "\n",
    "stringsplit = mystring.split('>') #Split() method splits String into a List based on argument within () which is '>'\n",
    "# Set mystring.split('>') method to stringsplit variable\n",
    "\n",
    "print(stringsplit) #Return List of the split String\n",
    "print(type(stringsplit)) #Class List\n"
   ]
  },
  {
   "cell_type": "markdown",
   "metadata": {},
   "source": [
    "# 2 (0.5 points)\n",
    "\n",
    "# Write a program that creates a new list from the given list such that:\n",
    "## The new list should only have items ending with '.com'\n",
    "## Print the number of items in the new list using an appropriate built-in function.\n"
   ]
  },
  {
   "cell_type": "code",
   "execution_count": 3,
   "metadata": {},
   "outputs": [
    {
     "name": "stdout",
     "output_type": "stream",
     "text": [
      "Original List: ['google.com', 'binghamton.edu', 'amazon.com', 'mit.edu', 'stanford.edu', 'vote.us', 'target.com']\n",
      "New List: ['google.com', 'amazon.com', 'target.com']\n",
      "Number of Items in New List: 3\n"
     ]
    }
   ],
   "source": [
    "mylist = ['google.com', 'binghamton.edu', 'amazon.com', 'mit.edu', 'stanford.edu', 'vote.us', 'target.com']\n",
    "\n",
    "newlist = [] #Create variable 'newlist' as empty list: This will become the copy\n",
    "\n",
    "for el in mylist: #Iterate through each element in mylist\n",
    "    if el.endswith('.com'): #Use if statement to identify elements that end with .com\n",
    "        newlist.append(el) # Adds elements from mylist to newlist if element passes if statement condition (ends with .com)\n",
    "\n",
    "print('Original List:', mylist)\n",
    "print('New List:', newlist) #Print copy of list\n",
    "print('Number of Items in New List:', len(newlist)) #Len() function returns number of items in the list\n"
   ]
  },
  {
   "cell_type": "markdown",
   "metadata": {},
   "source": [
    "# 3 (1 point)\n",
    "\n",
    "# Write a program to sort the words in the given string in alphabetic order as shown in the output below.\n",
    "## Note - The punctuations ',' and '.' in the given string should be removed using an appropriate string method."
   ]
  },
  {
   "cell_type": "code",
   "execution_count": 4,
   "metadata": {},
   "outputs": [
    {
     "name": "stdout",
     "output_type": "stream",
     "text": [
      "an\n",
      "dynamic\n",
      "high-level\n",
      "interpreted\n",
      "is\n",
      "language\n",
      "object-oriented\n",
      "programming\n",
      "python\n",
      "semantics\n",
      "with\n"
     ]
    }
   ],
   "source": [
    "myStr = 'Python is an interpreted, object-oriented, high-level programming language with dynamic semantics.'\n",
    "punc = ',.' # Create punc variable consisiting of ',' and '.' puncuations to remove later on\n",
    "myStr = myStr.lower() # Make string lower case b/c Python is case sensitive: Will allow sort() to execute correctly\n",
    "\n",
    "\n",
    "for char in myStr: # Use for loop to iterate through chars in string\n",
    "    if char in punc: # If char in string is in punc AKA if char is ',' and/or '.' the if statement will be passed therefore\n",
    "        myStr = myStr.replace(char, '') # Use replace() method to replace chars identified as puncuations with whitespace in the string\n",
    "\n",
    "strsplit = myStr.split() # Use split() method to create list of elements (chars/words) in the string\n",
    "\n",
    "strsplit.sort() # Sort method is defaulted to ascending order, which will sort list alphabetically\n",
    "\n",
    "\n",
    "for char in strsplit: # Iterate through elements of list 'strsplit' using for loop\n",
    "    print(char) #Print each item in strsplit list\n",
    "\n",
    "\n"
   ]
  },
  {
   "cell_type": "markdown",
   "metadata": {},
   "source": [
    "# 4 (0.75 points)\n",
    "\n",
    "# Using list slicing, delete the last three elements in the given list. \n",
    "# Sort the remaining list elements in descending order."
   ]
  },
  {
   "cell_type": "code",
   "execution_count": 5,
   "metadata": {},
   "outputs": [
    {
     "name": "stdout",
     "output_type": "stream",
     "text": [
      "[10, 8, 6, 4, 2]\n"
     ]
    }
   ],
   "source": [
    "mylist = [2, 4, 6, 8, 10, 120, 140, 160]\n",
    "\n",
    "# Last 3 Elements are at index 5, 6, and 7\n",
    "\n",
    "mylist = mylist[:5] #Slicing string with [:5] where it starts at the beginning of string and slices until the item at index 5, but NOT INLCUDING the element at index 5 because the end value for slicing is exclusive\n",
    "\n",
    "mylist.sort(reverse = True) # Then use Sort() method which is defaulted to ascending order\n",
    "                            #Therefore including argument (reverse = True) will sort the list elements in descending order\n",
    "\n",
    "print(mylist) #Prints mylist in descending order without the last 3 elements\n"
   ]
  },
  {
   "cell_type": "markdown",
   "metadata": {},
   "source": [
    "# 5 (1 point)\n",
    "\n",
    "# A list of food items is displayed.\n",
    "# Use the input() function to let you enter an item in the food list that you wish to change.\n",
    "# Use the list method 'index' to get the index of the item you entered.\n",
    "# Use another input() function to let you enter a new food item not in the list.\n",
    "# Replace the previously chosen food item with the value of the new food item you just entered.\n",
    "# Display the revised list."
   ]
  },
  {
   "cell_type": "code",
   "execution_count": 7,
   "metadata": {},
   "outputs": [
    {
     "name": "stdout",
     "output_type": "stream",
     "text": [
      "Original Food List: ['Burger', 'Pizza', 'Chips', 'Pasta', 'Waffle', 'Ice cream'] \n",
      "\n",
      "Enter Food Item from the List above that you wish to change: \n",
      "Poop\n",
      "Silly you! That food is not in the list! Please enter an item CURRENTLY in the list above\n",
      "\n",
      "Enter Food Item from the List above that you wish to change: \n",
      "pizza\n",
      "Silly you! That food is not in the list! Please enter an item CURRENTLY in the list above\n",
      "\n",
      "Enter Food Item from the List above that you wish to change: \n",
      "Pizza\n",
      "Index of Food Item:  1\n",
      "\n",
      "Enter Food Item not currently in List\n",
      "Waffle\n",
      "Silly you! That food is already in the list! Please enter an item NOT CURRENTLY in the list above\n",
      "\n",
      "Enter Food Item not currently in List\n",
      "Fries\n",
      "Revised List: ['Burger', 'Fries', 'Chips', 'Pasta', 'Waffle', 'Ice cream']\n"
     ]
    }
   ],
   "source": [
    "foodlist = ['Burger', 'Pizza', 'Chips', 'Pasta', 'Waffle', 'Ice cream']\n",
    "print('Original Food List:', foodlist,'\\n') #Prints list of foods\n",
    "\n",
    "inlist = False  #Boolean condition 'inlist' created for while loop (verify item is in list)\n",
    "nonlist = False #Boolean condition 'nonlist' created for while loop (verify item is not in list)\n",
    "\n",
    "while inlist == False: #While inlist variable is False - execute for loop\n",
    "    item = input('Enter Food Item from the List above that you wish to change: \\n') \n",
    "    #Input method set to variable 'item' to save the user-inputted value\n",
    "    \n",
    "    if item in foodlist: \n",
    "        #If item inputted is in foodlist, while loop concludes with inlist being set equal to True\n",
    "        inlist = True\n",
    "    else: \n",
    "        #Therefore else is used if food item inputted is not within food list and prompts user to enter a correct item\n",
    "        print('Silly you! That food is not in the list! Please enter an item CURRENTLY in the list above\\n')\n",
    "        continue #Jumps to new while iteration\n",
    "        #While loop will execute until conditions are passed (food is in list) and inlist = True (while-loop argument)\n",
    "        \n",
    "for food in foodlist: \n",
    "    #Use for loop to iterate through items in foodlist\n",
    "    if food == item: \n",
    "        #If condition to determine if item in list is equal to item inputted by user above\n",
    "        ind = foodlist.index(food)\n",
    "        print('Index of Food Item: ', ind) # Returns index of food item in list with list method: Only executes if if-statement condition is passed\n",
    "        print()\n",
    "\n",
    "while nonlist == False: #While nonlist variable is False - execute for loop\n",
    "    newitem = input('Enter Food Item not currently in List\\n')\n",
    "    #User inputs food item not in list saved as 'newitem' variable\n",
    "    \n",
    "    if newitem not in foodlist: \n",
    "        #If item inputted is not in foodlist, while loop concludes with nonlist being set equal to True\n",
    "        nonlist = True\n",
    "    else: \n",
    "        #Therefore else is used if food item inputted is already within food list and prompts user to enter a correct item\n",
    "        print('Silly you! That food is already in the list! Please enter an item NOT CURRENTLY in the list above\\n')\n",
    "        continue \n",
    "        #While loop will execute until conditions are passed (food is in list) and inlist = True (while-loop argument)\n",
    "        \n",
    "        \n",
    "foodlist[ind] = newitem \n",
    "#Variable 'ind' is the index of food item desired to be replaced in the list\n",
    "#Access element using foodlist[ind] and by setting this equal to newitem will replace the original item with newitem\n",
    "\n",
    "\n",
    "print('Revised List:', foodlist) #Prints revised list with updated item in place\n",
    "\n"
   ]
  },
  {
   "cell_type": "markdown",
   "metadata": {},
   "source": [
    "# 6 (1.5 points)\n",
    "\n",
    "# Use the while loop to allow you enter a series of test scores.\n",
    "    ## You should enter 10 scores when you execute the code.\n",
    "    ## You should enter 0 as one of the scores.\n",
    "    ## If you enter 'done', break the loop.\n",
    "# Add all the scores to a list. Print it.\n",
    "# Calculate the total score in the list (use a built-in function).\n",
    "# Find the highest and lowest scores in the list (use built-in functions).\n",
    "# Print the total score, highest score and lowest score.\n",
    "# Remove the lowest score in the list.\n",
    "# Display the list after removing the lowest score."
   ]
  },
  {
   "cell_type": "code",
   "execution_count": 8,
   "metadata": {},
   "outputs": [
    {
     "name": "stdout",
     "output_type": "stream",
     "text": [
      "Hello! You will be prompted to enter a series of Test Scores\n",
      "You must enter 10 scores and 0 must be one of the scores :)\n",
      "Enter \"done\" to finish loop\n",
      "\n",
      "Enter Score Number 1: 10\n",
      "Enter Score Number 2: 10\n",
      "Enter Score Number 3: 10\n",
      "Enter Score Number 4: 10\n",
      "Enter Score Number 5: 10\n",
      "Enter Score Number 6: 10\n",
      "Enter Score Number 7: 10\n",
      "Enter Score Number 8: 10\n",
      "Enter Score Number 9: 10\n",
      "Enter Score Number 10: 0\n",
      "Scores List:  [10, 10, 10, 10, 10, 10, 10, 10, 10, 0]\n",
      "Total Score:  90\n",
      "Highest Score:  10\n",
      "Lowest Score:  0\n",
      "Scores List after removing the Lowest Score:  [10, 10, 10, 10, 10, 10, 10, 10, 10]\n"
     ]
    }
   ],
   "source": [
    "scorenum = 1 #Count for number of scores starting with score 1\n",
    "scorelist = [] #Empty list for scores to be added\n",
    "\n",
    "#3 Print statements stating instructions for user\n",
    "print('Hello! You will be prompted to enter a series of Test Scores')\n",
    "print('You must enter 10 scores and 0 must be one of the scores :)')\n",
    "print('Enter \"done\" to finish loop\\n')\n",
    "\n",
    "while scorenum < 11: #While loop using number of scores entered as a condition from 1-10 not including 11\n",
    "    score = input(f'Enter Score Number {scorenum}: ') #User inputs score\n",
    "    if score == 'done': #If input is 'done' while-loop is broke and finishe\n",
    "        break\n",
    "    else: \n",
    "        scorelist.append(int(score)) #Otherwise, the int of the score inputted is appended to scorelist\n",
    "        scorenum += 1 #Scorenum is accumulated using += 1 \n",
    "        #Where first iteration score number is 1... then 2 in the following iteration and so on until we gather 10 scores\n",
    "        \n",
    "print('Scores List: ', scorelist) #List of scores displayed\n",
    "\n",
    "total =  sum(scorelist) #Sum() built-in method returns sum of all scores in list\n",
    "maxscore = max(scorelist) #Max() built-in method returns the highest score in list\n",
    "minscore = min(scorelist) #Min() built-in method returns the lowest score in list\n",
    "\n",
    "\n",
    "#Print results:\n",
    "print('Total Score: ', total)\n",
    "print('Highest Score: ', maxscore)\n",
    "print('Lowest Score: ', minscore)\n",
    "\n",
    "lowindex = scorelist.index(minscore) #Index() gets index position of 'minscore' which is the lowest score value in the list\n",
    "\n",
    "del scorelist[lowindex] #Use del method to remove the lowest element in list using the index position of that value\n",
    "\n",
    "print('Scores List after removing the Lowest Score: ', scorelist) #Print revised list without lowest score\n",
    "\n",
    "    \n",
    " \n",
    "    \n"
   ]
  },
  {
   "cell_type": "markdown",
   "metadata": {},
   "source": [
    "# 7 (1 point)\n",
    "\n",
    "# Write a function that accepts two arguments: a list 'lstVal' and a number 'n'.\n",
    "# The function should display all the elements in the list 'lstVal' that are greater than the number 'n'.\n",
    "\n",
    "# Copy the given list to a new list using an appropriate list method.\n",
    "# Use the input() function to get a number.\n",
    "# Pass the list and the number as arguments to the function you created above."
   ]
  },
  {
   "cell_type": "code",
   "execution_count": 11,
   "metadata": {},
   "outputs": [
    {
     "name": "stdout",
     "output_type": "stream",
     "text": [
      "Enter a number: 22\n",
      "100 is greater than 22\n",
      "43 is greater than 22\n",
      "64 is greater than 22\n",
      "50 is greater than 22\n",
      "66 is greater than 22\n",
      "28 is greater than 22\n",
      "210 is greater than 22\n",
      "26 is greater than 22\n",
      "88 is greater than 22\n",
      "92 is greater than 22\n"
     ]
    }
   ],
   "source": [
    "numsList = [100, 22, 43, 64, 50, 66, 7, 28, 19, 210, 26, 88, 92]\n",
    "copy = list(numsList) #Copy numsList using list() function set equal to variable 'copy' \n",
    "num = input('Enter a number: ') #Prompt user to enter a number using input(), value stored at variable num\n",
    "    \n",
    "def numfunction(lstVal, n): #Define function with 2 arguments: lstVal & n\n",
    "    for el in lstVal: #For every item in lstVal\n",
    "        if int(el) > int(n): #If the int() of el is > the int() of argument n then...\n",
    "            print(el, 'is greater than', n) #Print el\n",
    "            \n",
    "\n",
    "numfunction(copy,num) #Call Function passing 2 arguments: Copy of the list (copy) & User inputted number (n)"
   ]
  },
  {
   "cell_type": "markdown",
   "metadata": {},
   "source": [
    "# 8 (2.5 points)\n",
    "\n",
    "# The following table provides the sales commission rates for salespersons:\n",
    "\n",
    "# Write a program to calculate the salesperson's monthly pay using the instructions given below:\n",
    "  ## Use the input() function when it is required to get data from the user in the following steps.\n",
    "  ## Write 4 separate fruitful functions to\n",
    "  ## 1) get a salesperson's sales amount for that month.\n",
    "  ## 2) get the advanced pay the salesperson has received for that month (note: Assume that each salesperson gets an advanced pay every month).\n",
    "  ## 3) determine the commission rate for the sales amount obtained from function(1). Use the sales commission rates table given above. \n",
    "  ## 4) calculate the monthly pay for the salesperson. Use the formula: sales amount * commision rate - advanced pay\n",
    "  ## Call the above functions in your main program and display the monthly pay.\n"
   ]
  },
  {
   "cell_type": "code",
   "execution_count": 8,
   "metadata": {},
   "outputs": [
    {
     "name": "stdout",
     "output_type": "stream",
     "text": [
      "Enter salesperson's sales for this month:25000\n",
      "Enter salesperson's advanced pay for this month:100\n",
      "Sales Amount: $ 25000.00\n",
      "Advanced Pay: $ 100.00\n",
      "Commission Rate: $ 6250.00\n",
      "Monthly Pay: $ 156249900.00\n"
     ]
    }
   ],
   "source": [
    "# Sales this month        Commision Rate\n",
    " \n",
    "# Less than $10,000       5%\n",
    "# $10,000 - $14,999       10%\n",
    "# $15,000 - $19,999       15%\n",
    "# $20,000 - $24,999       20%\n",
    "# $25,000 or more         25%\n",
    "\n",
    "def main(): #Main function at top of program to execute\n",
    "    sale = sales() #Set each function to a variable \n",
    "    ad = advanced() #Fruitful functions returns a value which allows for the fn to be set equal to a variable to store data/information\n",
    "    com = comm(sale)\n",
    "    month = monthly(sale,com,ad)\n",
    "    print('Sales Amount: $', (format(sale, '.2f'))) #Print results of each function\n",
    "    print('Advanced Pay: $', (format(ad, '.2f'))) #String formatting used for cleanliness and clarity\n",
    "    print('Commission Rate: $', (format(com, '.2f'))) #Use format(x, '.2f') to display 2 decimal points\n",
    "    print('Monthly Pay: $', (format(month, '.2f')))\n",
    "\n",
    "def sales(): #Define function #1\n",
    "    x = float(input(\"Enter salesperson's sales for this month:\")) #Use input() to get sales amount\n",
    "    return (x) #Fruitful functions return values! Unlike void functions: Here, the value of x is returned\n",
    "\n",
    "#Use float(input(x)) for sales() & advanced() to account for decimal points for monetary values\n",
    "\n",
    "def advanced(): #Define function #2\n",
    "    y = float(input(\"Enter salesperson's advanced pay for this month:\"))#Use input() to get advanced pay\n",
    "    return (y) #Function returns value of y\n",
    "\n",
    "def comm(sale): #Define function #3: Pass in 1 argument 'sale' which will be accessed in main() with sale = sales()\n",
    "    if sale < 10000: #Run a series of if and elif-statements based on the commission table to determine the value\n",
    "        return (sale * .05) #Return commission if sale < 1000 where the commission = sale * 5%\n",
    "    elif sale >= 10000 and sale <= 14999:\n",
    "        return (sale * .10) #Returns sale*10% if sale >= 10000 and <= 14999\n",
    "    elif sale >= 15000 and sale <= 19999:\n",
    "        return (sale * .15) #Returns sale*15% if sale >= 15000 and <= 19999\n",
    "    elif sale >= 20000 and sale <= 24999:\n",
    "        return (sale * .20) #Returns sale*20% if sale >= 20000 and <= 24999\n",
    "    else:\n",
    "        return (sale * .25) #Else condition passes if all other statements are not; This condition checks if sale >= 25000; if yes, sale*25% is returned\n",
    "    \n",
    "def monthly(sale,com,ad): #Define function #4: 3 arguments accessed in main() using 3 above functions set to respective variables\n",
    "    month = (sale * com) - ad #Values of each variable are accessed from the additional functions and used here\n",
    "    return float(month) #Use given formula to calculate monthly pay and returns that amount as a float\n",
    "\n",
    "main() #Run main() to execute the entire program and produce results"
   ]
  },
  {
   "cell_type": "markdown",
   "metadata": {},
   "source": [
    "# 9 (2 points)\n",
    "\n",
    "# Write a program following the instructions given below:\n",
    "  # Write a function that allows you to enter and return your monthly expense for food, housing, internet, and car.\n",
    "  # Write a function to calculate your total monthly expense (food + housing + internet + car) and annual expense (monthly expense * 12).\n",
    "  # Display the total monthly expense and annual expense. "
   ]
  },
  {
   "cell_type": "code",
   "execution_count": 9,
   "metadata": {},
   "outputs": [
    {
     "name": "stdout",
     "output_type": "stream",
     "text": [
      "Enter your monthly food expenses: 100\n",
      "Enter your monthly housing expenses: 100\n",
      "Enter your monthly internet expenses: 20\n",
      "Enter your monthly car expenses: 20\n",
      "Monthly Expenses:\n",
      "-----------------\n",
      "Food: $100\n",
      "Housing: $100\n",
      "Internet: $20\n",
      "Car: $20\n",
      "Total Monthly Expenses: $240\n",
      "Total Annual Expenses: $2880\n"
     ]
    }
   ],
   "source": [
    "expenseslist = [] #Create empty list named expenseslist to store expenses values\n",
    "    \n",
    "def monthlyexpenses(): #Define function\n",
    "    food = input('Enter your monthly food expenses: ') #Input function prompts user to enter expenses for different categories (food,house,internet, and car)\n",
    "    expenseslist.append(int(food)) #Append each inputted expense value to expenseslist\n",
    "    \n",
    "    house = input('Enter your monthly housing expenses: ')\n",
    "    expenseslist.append(int(house)) #All appended expenses are converted to type int to ensure Arithmetic functions can be executed\n",
    "\n",
    "    internet = input('Enter your monthly internet expenses: ')\n",
    "    expenseslist.append(int(internet))\n",
    "\n",
    "    car = input('Enter your monthly car expenses: ')\n",
    "    expenseslist.append(int(car))\n",
    "\n",
    "    \n",
    "    print('Monthly Expenses:') #Print results of all monthly expenses\n",
    "    print('-----------------')\n",
    "    print(f'Food: ${food}')\n",
    "    print(f'Housing: ${house}')\n",
    "    print(f'Internet: ${internet}')\n",
    "    print(f'Car: ${car}')\n",
    "\n",
    "    \n",
    "def totalmonthly(): #Define function\n",
    "    monthlyexpenses() #Call monthlyexpenses() function: this execution gives us access to expenseslist elements from monthlyexpenses() function\n",
    "    \n",
    "    totalm = sum(expenseslist) #Built-in sum() method returns sum of all values in expenseslist (which include all expenses prices)\n",
    "    annual = totalm * 12 #Use monthly total (totalm) to calculate annual expenses (totalm*12) set equal to variable annual\n",
    "    \n",
    "    print(f'Total Monthly Expenses: ${totalm}') #Print results of total monthly and annual expenses\n",
    "    print(f'Total Annual Expenses: ${annual}') \n",
    "    \n",
    "\n",
    "totalmonthly() #Call totalmonthly() function to execute program\n",
    "    \n",
    "\n",
    "\n",
    "\n"
   ]
  },
  {
   "cell_type": "markdown",
   "metadata": {},
   "source": [
    "# 10 (0.25 points)\n",
    "\n",
    "# Convert the given tuple to a list and print the list."
   ]
  },
  {
   "cell_type": "code",
   "execution_count": 10,
   "metadata": {},
   "outputs": [
    {
     "name": "stdout",
     "output_type": "stream",
     "text": [
      "Tuple:  (1, 2, 3)\n",
      "Type:  <class 'tuple'>\n",
      "\n",
      "Tuple converted to List:  [1, 2, 3]\n",
      "Type:  <class 'list'>\n"
     ]
    }
   ],
   "source": [
    "number_tuple = (1, 2, 3)\n",
    "print('Tuple: ', number_tuple) #Print tuple\n",
    "print('Type: ', type(number_tuple)) #Print type() of number_tuple: class 'tuple'\n",
    "print()\n",
    "\n",
    "number_list = list(number_tuple) #Using list() method to convet number_tuple to list as number_list\n",
    "print('Tuple converted to List: ', number_list) #Print converted list\n",
    "print('Type: ', type(number_list)) #Print type() of number_list: class 'list'\n"
   ]
  },
  {
   "cell_type": "markdown",
   "metadata": {},
   "source": [
    "# 11 (0.25 points)\n",
    "\n",
    "# Use negative indexing to slice the middle name 'Katelyn' in the given string."
   ]
  },
  {
   "cell_type": "code",
   "execution_count": 11,
   "metadata": {},
   "outputs": [
    {
     "name": "stdout",
     "output_type": "stream",
     "text": [
      "Katelyn\n"
     ]
    }
   ],
   "source": [
    "full_name = 'Susan Katelyn Smith'\n",
    "\n",
    "print(full_name[-13:-6])\n",
    "\n",
    "# Negative indexing to slice is starting at the end of string using negative index positions\n",
    "# To return 'Katelyn' we slice from index position -13 ('K') to index position -6 ( )\n",
    "# Remember the end of a slice range is exclusive so although -7 is the index of 'n' in 'Katelyn' we use index -6 to include the entire middle name and exclude the whitespace following at index -6"
   ]
  },
  {
   "cell_type": "markdown",
   "metadata": {},
   "source": [
    "# 12 (1.5 points)\n",
    "\n",
    "# Write a program to construct the user name for the given student such that:\n",
    "\n",
    "# Slice the first three letters of the first name (i.e., Jes)\n",
    "# Slice the first three letters of the last name (i.e., Jon)\n",
    "# Slice the last four characters of the student id (i.e., 8542)\n",
    "# Put all the sliced characters together to construct the user name (i.e., jesjon8542)\n",
    "# Note: All characters should be lowercase.\n",
    "# Display the user name."
   ]
  },
  {
   "cell_type": "code",
   "execution_count": 12,
   "metadata": {},
   "outputs": [
    {
     "name": "stdout",
     "output_type": "stream",
     "text": [
      "jesjon8542\n"
     ]
    }
   ],
   "source": [
    "full_name = 'Jessie Jones'\n",
    "idnumber = 2164368542\n",
    "\n",
    "lowername = full_name.lower() \n",
    "#lower case full_name string based on instructions using .lower() method\n",
    "\n",
    "first = lowername[:3] \n",
    "#Slices first 3 letters of first name with [:3] where it starts slicing at beginning of strings and ends at index 2, not including the value at index 3\n",
    "\n",
    "last = lowername[-5:-2] \n",
    "#Slices first 3 letters of last name using negative indexing where it starts slicing at index -5 until index -2 (not including value at -2)\n",
    "\n",
    "\n",
    "idnum = str(idnumber) #Convert idnumber to string type to allow for slicing\n",
    "\n",
    "lastfourdig = idnum[-4:] #Slice idnum starting with index -4 (Value 8) until end of string\n",
    "\n",
    "#Final Step is Concatenation with strings!\n",
    "username = first + last + lastfourdig\n",
    "print(username) #Print username result\n"
   ]
  },
  {
   "cell_type": "markdown",
   "metadata": {},
   "source": [
    "# 13 (3 points)\n",
    "\n",
    "# Two sets are given in the program.\n",
    "  ## One that holds the names of students in a Python class.\n",
    "  ## One that holds the names of students in an Analytics class.\n",
    "# Use for loops to display the names of students in both classes.\n",
    "# Use set operations to answer the following quesions.\n",
    "  ## Display the names of students who are in both classes.\n",
    "  ## Display the names of students who are in either class.\n",
    "  ## Display the names of students who are in Python class but not in Analytics class.\n",
    "  ## Display the names of students who are in Analytics class but not in Python class.\n",
    "  ## Display the names of students who are in one class but not both."
   ]
  },
  {
   "cell_type": "code",
   "execution_count": 13,
   "metadata": {},
   "outputs": [
    {
     "name": "stdout",
     "output_type": "stream",
     "text": [
      "Python Class Students:\n",
      "\n",
      "Laury\n",
      "Jack\n",
      "Sara\n",
      "John\n",
      "Ben\n",
      "Chris\n",
      "Alice\n",
      "Jerry\n",
      "--------------------------\n",
      "Analytics Class Students:\n",
      "\n",
      "Jack\n",
      "Susan\n",
      "Sara\n",
      "Peter\n",
      "Chris\n",
      "Alice\n",
      "Harry\n",
      "Mary\n",
      "Ann\n",
      "--------------------------\n",
      "Students in both classes:  {'Jack', 'Chris', 'Alice', 'Sara'}\n",
      "--------------------------\n",
      "Students in either class:  {'Laury', 'Jack', 'Susan', 'Sara', 'John', 'Ben', 'Peter', 'Chris', 'Alice', 'Harry', 'Jerry', 'Mary', 'Ann'}\n",
      "--------------------------\n",
      "Students in Python Class but NOT Analytics Class:  {'Laury', 'John', 'Ben', 'Jerry'}\n",
      "--------------------------\n",
      "Students in Analytics Class but NOT Python Class:  {'Susan', 'Peter', 'Harry', 'Mary', 'Ann'}\n",
      "--------------------------\n",
      "Students in one class but not both:  {'Laury', 'Susan', 'John', 'Ben', 'Peter', 'Harry', 'Jerry', 'Mary', 'Ann'}\n"
     ]
    }
   ],
   "source": [
    "pythonClass = set(['John', 'Chris', 'Jerry', 'Alice', 'Sara', 'Ben', 'Laury','Jack'])\n",
    "analyticsClass = set(['Harry', 'Chris', 'Alice', 'Susan', 'Jack', 'Ann','Sara', 'Peter', 'Mary'])\n",
    "\n",
    "print('Python Class Students:\\n')\n",
    "for stu in pythonClass: #For loop display names of students in list pythonClass\n",
    "    print(stu)\n",
    "    \n",
    "print('--------------------------')\n",
    "print('Analytics Class Students:\\n')\n",
    "for stu in analyticsClass: #For loop display names of students in list analyticsClass\n",
    "    print(stu)\n",
    "    \n",
    "print('--------------------------')    \n",
    "print('Students in both classes: ', pythonClass.intersection(analyticsClass)) #Intersection() returns names common in both sets (students taking both python and analytics class)\n",
    "print('--------------------------')    \n",
    "print('Students in either class: ', pythonClass.union(analyticsClass)) #Uniin() returns names in both sets (students taking either python and analytics class); Displays all students without duplicate names\n",
    "print('--------------------------')    \n",
    "print('Students in Python Class but NOT Analytics Class: ', pythonClass.difference(analyticsClass)) #Difference() returns names unique to pythonClass not in analyticsClads\n",
    "print('--------------------------')    \n",
    "print('Students in Analytics Class but NOT Python Class: ', analyticsClass.difference(pythonClass)) #Vice Versa, difference() returns names unique to analyticsClass not in pythonClass\n",
    "print('--------------------------')    \n",
    "print('Students in one class but not both: ', pythonClass.symmetric_difference(analyticsClass)) #Symmetric_difference() returns names unique to both pythonClass and analyticsClass - shows students only in 1 of the classes\n",
    "\n",
    "\n",
    "\n",
    "\n"
   ]
  },
  {
   "cell_type": "markdown",
   "metadata": {},
   "source": [
    "# 14 (2.5 points)\n",
    "\n",
    "# Create the following dictionaries:\n",
    "  ## A dictionary containing course numbers of the courses you have in this semester as keys and its course title as values.\n",
    "  ## A dictionary containing course numbers of the courses you have in this semester as keys and its concentration as values.\n",
    "  ## A dictionary containing course numbers of the courses you have in this semester as keys and its instructor name as values.\n",
    "    \n",
    "# The program should let the user enter a course number, then it should display the following details:\n",
    "  ## Course title\n",
    "  ## Course concentration\n",
    "  ## Instructor of the course\n",
    "# If the course number doesn't exist in the dictionary, display : 'Course not found'"
   ]
  },
  {
   "cell_type": "code",
   "execution_count": 14,
   "metadata": {},
   "outputs": [
    {
     "name": "stdout",
     "output_type": "stream",
     "text": [
      "Enter course number: 100\n",
      "Course Title: Course not found\n",
      "Course Concentration: Course not found\n",
      "Instructor of Course: Course not found\n"
     ]
    }
   ],
   "source": [
    "semnames = {'325':'Essentials of Programming', '323':'Systems Analysis and Specification', '480':'Digital Analytics', '411':'Strategic Management'}\n",
    "\n",
    "semconcen = {'325':'MIS', '323':'MIS', '480':'MKTG', '411':'MGMT'}\n",
    "\n",
    "profs = {'325':'Professor Sundar', '323':'Professor Bunts', '480':'Professor Savisesh', '411':'Professor Dedek'}\n",
    "\n",
    "\n",
    "coursenum = str(input('Enter course number: ')) #input() prompts user to enter course number\n",
    "\n",
    "print('Course Title:', semnames.get(coursenum, 'Course not found')) #Use get() method to get the value of key 'coursenum' for all\n",
    "print('Course Concentration:', semconcen.get(coursenum, 'Course not found')) #If course not found, 'Course not found' is returned\n",
    "print('Instructor of Course:', profs.get(coursenum, 'Course not found'))\n",
    "\n",
    "#get() condition added after key desired as 'Course not found' that will display if desired key not found in dict\n",
    "    \n"
   ]
  },
  {
   "cell_type": "markdown",
   "metadata": {},
   "source": [
    "# 15 (2 points)\n",
    "\n",
    "# Rewrite the dictionaries in program # 14 with only one dictionary (Hint: Use nested dictionaries).\n",
    "    \n",
    "# The program should let the user enter a course number, then it should display the following details:\n",
    "  ## Course title\n",
    "  ## Course concentration\n",
    "  ## Instructor of the course\n",
    "# If the course number doesn't exist in the dictionary, display : 'Course not found'"
   ]
  },
  {
   "cell_type": "code",
   "execution_count": 18,
   "metadata": {},
   "outputs": [
    {
     "name": "stdout",
     "output_type": "stream",
     "text": [
      "Enter course number: 1\n",
      "Course not found\n"
     ]
    }
   ],
   "source": [
    "semcourses = {'325':{'Course Title': 'Essentials of Programming', 'Concentration':'MIS', 'Instructor':'Professor Sundar'}, \n",
    "            '323':{'Course Title':'Systems Analysis and Specification', 'Concentration':'MIS', 'Instructor':'Professor Bunts'},\n",
    "            '480':{'Course Title':'Digital Analytics', 'Concentration':'MKTG', 'Instructor':'Professor Savisesh'},\n",
    "            '411':{'Course Title':'Strategic Management', 'Concentration':'MGMT', 'Instructor':'Professor Dedek'}\n",
    "             }\n",
    "\n",
    "\n",
    "coursenum = str(input('Enter course number: ')) #input() prompts user to enter course number\n",
    "\n",
    "print(semcourses.get(coursenum, 'Course not found')) #Use get() method to get value of key 'coursenum'\n",
    "\n",
    "#Value in nested dictionary is another dictionary! Returns all intended details of specified course number\n",
    "\n",
    "#get() condition added after key desired as 'Course not found' that will display if desired key not found in dict\n",
    "\n",
    "\n",
    "\n"
   ]
  },
  {
   "cell_type": "markdown",
   "metadata": {},
   "source": [
    "# Bonus question (1 point)\n",
    "\n",
    "# Write a program that displays all the unique words in the given string."
   ]
  },
  {
   "cell_type": "code",
   "execution_count": 19,
   "metadata": {},
   "outputs": [
    {
     "name": "stdout",
     "output_type": "stream",
     "text": [
      "beautiful\n",
      "ugly\n",
      "explicit\n",
      "implicit\n",
      "simple\n",
      "complicated\n",
      "flat\n",
      "nested\n",
      "sparse\n",
      "dense\n",
      "readability\n",
      "counts\n",
      "cases\n",
      "aren't\n",
      "enough\n",
      "break\n",
      "rules\n",
      "practicality\n",
      "beats\n",
      "purity\n",
      "errors\n",
      "pass\n",
      "silently\n",
      "explicitly\n",
      "silenced\n",
      "in\n",
      "face\n",
      "ambiguity\n",
      "refuse\n",
      "temptation\n",
      "guess\n",
      "there\n",
      "and\n",
      "preferably\n",
      "only\n",
      "that\n",
      "not\n",
      "at\n",
      "first\n",
      "you're\n",
      "dutch\n",
      "often\n",
      "right\n",
      "hard\n",
      "it's\n",
      "bad\n",
      "easy\n",
      "good\n",
      "namespaces\n",
      "are\n",
      "honking\n",
      "great\n",
      "let's\n",
      "more\n",
      "those\n",
      "Number of Unique Words:  55\n"
     ]
    }
   ],
   "source": [
    "zen_of_python = '''\n",
    "Beautiful is better than ugly.\n",
    "Explicit is better than implicit.\n",
    "Simple is better than complex.\n",
    "Complex is better than complicated.\n",
    "Flat is better than nested.\n",
    "Sparse is better than dense.\n",
    "Readability counts.\n",
    "Special cases aren't special enough to break the rules.\n",
    "Although practicality beats purity.\n",
    "Errors should never pass silently.\n",
    "Unless explicitly silenced.\n",
    "In the face of ambiguity, refuse the temptation to guess.\n",
    "There should be one—and preferably only one—obvious way to do it.\n",
    "Although that way may not be obvious at first unless you're Dutch.\n",
    "Now is better than never.\n",
    "Although never is often better than right now.\n",
    "If the implementation is hard to explain, it's a bad idea.\n",
    "If the implementation is easy to explain, it may be a good idea.\n",
    "Namespaces are one honking great idea—let's do more of those.\n",
    "'''\n",
    "\n",
    "punc = ',.—' \n",
    "string = zen_of_python.lower() #Python is case sensitive - use lower() to make all lower case\n",
    "\n",
    "for char in string: #for every char in the string\n",
    "    if char in punc: #if the char is a punctuation (, . -) replace with \" \"\n",
    "        string = string.replace(char, \" \")\n",
    "        \n",
    "\n",
    "split = string.split() #Split() to create list of words in string\n",
    "\n",
    "\n",
    "def uniqueword(lst): #Define Function\n",
    "    ulist = [] #Create empty list ulist\n",
    "    count = 0 #Count variable to get number of unique words\n",
    "    for x in lst: #for all elements in lst (split list)\n",
    "        if x not in ulist and lst.count(x) == 1: #if the element is not already in the list (ulist) and there is only one instance of the element in lst (split list)\n",
    "            ulist.append(x) #Then append element to ulist\n",
    "            \n",
    "    for x in ulist: #for loop to go through elements of ulist (unique list)\n",
    "        count += 1 #Count iteration for each element in ulist\n",
    "        print(x) #Print unique word\n",
    "    print('Number of Unique Words: ', count) #Display count of unique words \n",
    "\n",
    "uniqueword(split) #Call uniqueword Function on split list to return all unique values in the original string\n"
   ]
  }
 ],
 "metadata": {
  "kernelspec": {
   "display_name": "Python 3 (ipykernel)",
   "language": "python",
   "name": "python3"
  },
  "language_info": {
   "codemirror_mode": {
    "name": "ipython",
    "version": 3
   },
   "file_extension": ".py",
   "mimetype": "text/x-python",
   "name": "python",
   "nbconvert_exporter": "python",
   "pygments_lexer": "ipython3",
   "version": "3.9.7"
  }
 },
 "nbformat": 4,
 "nbformat_minor": 4
}
